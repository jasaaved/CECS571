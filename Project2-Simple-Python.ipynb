{
 "cells": [
  {
   "cell_type": "code",
   "execution_count": 155,
   "metadata": {},
   "outputs": [],
   "source": [
    "from rdflib import Graph, URIRef, BNode, Literal, Namespace, ConjunctiveGraph\n",
    "from rdflib.namespace import RDF, FOAF, RDFS, SKOS, DCTERMS\n",
    "import pandas as pd\n",
    "import re\n",
    "import string"
   ]
  },
  {
   "cell_type": "code",
   "execution_count": 158,
   "metadata": {},
   "outputs": [],
   "source": [
    "df = pd.read_csv('Accidental_Drug_Related_Deaths_2012-2018.csv')\n",
    "ds = Namespace(\"https://data.ct.gov/resource/deaths/\")\n",
    "socrata = Namespace(\"http://www.socrata.com/rdf/terms#\")\n",
    "dcat = Namespace(\"http://www.w3.org/ns/dcat#\")\n",
    "ods = Namespace(\"http://open-data-standards.github.com/2012/01/open-data-standards#\")\n",
    "geo =  Namespace(\"http://www.w3.org/2003/01/geo/wgs84_pos#\")\n",
    "skos = Namespace(\"http://www.w3.org/2004/02/skos/core#\")\n",
    "dsbase = Namespace(\"https://data.ct.gov/resource/\")\n",
    "usps = Namespace(\"http://www.w3.org/2000/10/swap/pim/usps#\")\n",
    "\n",
    "\n",
    "g = Graph()\n",
    "g.bind('ds', ds)\n",
    "g.bind('usps', usps)\n",
    "g.bind('dsbase', dsbase)\n",
    "g.bind('geo', geo)\n",
    "for index, row in df.iterrows():\n",
    "    g.add( (URIRef(row[0]), RDF.type , dsbase.Person ))\n",
    "    for col in df.columns:\n",
    "        if pd.isna(row[col]) == False:\n",
    "            g.add( (URIRef(row[0]), URIRef(ds+col), Literal(row[col]) ))\n",
    "\n",
    "g.serialize(\"test.rdf\", format=\"pretty-xml\")\n",
    "\n"
   ]
  }
 ],
 "metadata": {
  "kernelspec": {
   "display_name": "Python 3",
   "language": "python",
   "name": "python3"
  },
  "language_info": {
   "codemirror_mode": {
    "name": "ipython",
    "version": 3
   },
   "file_extension": ".py",
   "mimetype": "text/x-python",
   "name": "python",
   "nbconvert_exporter": "python",
   "pygments_lexer": "ipython3",
   "version": "3.7.4"
  }
 },
 "nbformat": 4,
 "nbformat_minor": 2
}
