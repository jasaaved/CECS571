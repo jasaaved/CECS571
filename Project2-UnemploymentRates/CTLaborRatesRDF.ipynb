{
 "cells": [
  {
   "cell_type": "code",
   "execution_count": 2,
   "metadata": {},
   "outputs": [],
   "source": [
    "from rdflib import Graph, URIRef, BNode, Literal, Namespace, ConjunctiveGraph\n",
    "from rdflib.namespace import RDF, FOAF, RDFS, SKOS, DCTERMS\n",
    "import pandas as pd\n",
    "import re\n",
    "import string"
   ]
  },
  {
   "cell_type": "code",
   "execution_count": 89,
   "metadata": {
    "scrolled": true
   },
   "outputs": [],
   "source": [
    "list_of_files = ['LAUS Substate 2012 AP 19bm.xlsx','LAUS Substate 2013 AP 19bm.xlsx','LAUS Substate 2014 AP 19bm.xlsx', 'LAUS Substate 2015 AP 19bm.xlsx', 'LAUS Substate 2016 AP 19bm.xlsx', 'LAUS Substate 2017 AP 19bm.xlsx', 'LAUS Substate 2018 AP 19bm.xlsx']\n",
    "df = pd.read_excel('LAUS Substate 2012 AP 19bm.xlsx')\n",
    "ds = Namespace(\"https://www1.ctdol.state.ct.us/lmi/laus/laustown.asp/\")\n",
    "dsbase = Namespace(\"https://www1.ctdol.state.ct.us/lmi/\")\n",
    "rates = Namespace(\"https://www1.ctdol.state.ct.us/lmi/laus/\")\n",
    "\n",
    "g = Graph()\n",
    "g.bind('ds', ds)\n",
    "g.bind('dsbase', dsbase)\n",
    "g.bind('rates', rates)\n",
    "\n",
    "\n",
    "for i in range(len(list_of_files)):\n",
    "    df = pd.read_excel(list_of_files[i]) \n",
    "    for index, row in df.iterrows():\n",
    "        if (index > 911):\n",
    "            break\n",
    "        g.add( (URIRef(row[1]), RDF.type , dsbase.City ))\n",
    "        g.add( (URIRef(row[1]), URIRef(ds+\"CityName\") , Literal(row[2]) ))\n",
    "        for col in df.columns[4:17]:\n",
    "            g.add( (URIRef(row[1]), URIRef(ds+col[0:8].replace(\" \", \"\")), URIRef(rates+row[1]+col[0:8].replace(\" \", \"\")) ))\n",
    "            g.add((URIRef(rates+row[1]+col[0:8].replace(\" \", \"\")), URIRef(rates+str(row[3]).replace(\" \", \"\")), Literal(row[col])))\n",
    "\n",
    "\n",
    "g.serialize(\"test.rdf\", format=\"pretty-xml\")"
   ]
  },
  {
   "cell_type": "code",
   "execution_count": null,
   "metadata": {},
   "outputs": [],
   "source": []
  }
 ],
 "metadata": {
  "kernelspec": {
   "display_name": "Python 3",
   "language": "python",
   "name": "python3"
  },
  "language_info": {
   "codemirror_mode": {
    "name": "ipython",
    "version": 3
   },
   "file_extension": ".py",
   "mimetype": "text/x-python",
   "name": "python",
   "nbconvert_exporter": "python",
   "pygments_lexer": "ipython3",
   "version": "3.7.4"
  }
 },
 "nbformat": 4,
 "nbformat_minor": 2
}
